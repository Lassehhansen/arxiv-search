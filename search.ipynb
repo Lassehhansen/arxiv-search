{
 "cells": [
  {
   "cell_type": "code",
   "execution_count": 1,
   "metadata": {},
   "outputs": [],
   "source": [
    "# Importing necessary functions and keyword lists\n",
    "import sys\n",
    "sys.path.append('src')  # Ensure the 'src' folder is in the Python path\n",
    "sys.path.append('keyword_lists')  # Ensure the 'keyword_lists' folder is in the Python path\n",
    "\n",
    "from arxiv_search import jsonl_folder_filtering\n",
    "from keywords_auroc import auroc_search_terms\n",
    "from keywords_auprc import auprc_search_terms"
   ]
  },
  {
   "cell_type": "code",
   "execution_count": 4,
   "metadata": {},
   "outputs": [
    {
     "data": {
      "text/plain": [
       "'AUCIAYN/arxiv_search'"
      ]
     },
     "execution_count": 4,
     "metadata": {},
     "output_type": "execute_result"
    }
   ],
   "source": [
    "import os\n",
    "os.getcwd()"
   ]
  },
  {
   "cell_type": "code",
   "execution_count": 12,
   "metadata": {},
   "outputs": [],
   "source": [
    "# Specify the path to the folder containing your JSONL files\n",
    "input_folder_path = 'arxiv_data/'\n",
    "output_folder_path = 'data'\n",
    "metadata_keys = ['timestamp', 'yymm', 'arxiv_id', 'language', 'url']\n",
    "# Call the jsonl_folder_filtering function\n",
    "df_output = jsonl_folder_filtering(input_folder_path, auroc_search_terms, auprc_search_terms, \n",
    "                                   metadata_keys=metadata_keys,\n",
    "                                   output_folder_path=output_folder_path,\n",
    "                                   remove_latex=True,\n",
    "                                   save_file=True,\n",
    "                                   filename=\"arxiv_filter_auc.csv\")"
   ]
  },
  {
   "cell_type": "code",
   "execution_count": 13,
   "metadata": {},
   "outputs": [
    {
     "data": {
      "text/html": [
       "<div>\n",
       "<style scoped>\n",
       "    .dataframe tbody tr th:only-of-type {\n",
       "        vertical-align: middle;\n",
       "    }\n",
       "\n",
       "    .dataframe tbody tr th {\n",
       "        vertical-align: top;\n",
       "    }\n",
       "\n",
       "    .dataframe thead th {\n",
       "        text-align: right;\n",
       "    }\n",
       "</style>\n",
       "<table border=\"1\" class=\"dataframe\">\n",
       "  <thead>\n",
       "    <tr style=\"text-align: right;\">\n",
       "      <th></th>\n",
       "      <th>text</th>\n",
       "      <th>text_id</th>\n",
       "      <th>timestamp</th>\n",
       "      <th>yymm</th>\n",
       "      <th>arxiv_id</th>\n",
       "      <th>language</th>\n",
       "      <th>url</th>\n",
       "      <th>contains_auroc</th>\n",
       "      <th>contains_auprc</th>\n",
       "    </tr>\n",
       "  </thead>\n",
       "  <tbody>\n",
       "    <tr>\n",
       "      <th>0</th>\n",
       "      <td>{Introduction}  The moduli space of flat conne...</td>\n",
       "      <td>0</td>\n",
       "      <td>2010-06-29T02:02:38</td>\n",
       "      <td>1006</td>\n",
       "      <td>1006.5340</td>\n",
       "      <td>en</td>\n",
       "      <td>https://arxiv.org/abs/1006.5340</td>\n",
       "      <td>False</td>\n",
       "      <td>True</td>\n",
       "    </tr>\n",
       "    <tr>\n",
       "      <th>1</th>\n",
       "      <td>{Introduction.}{secIntro}   In this paper we p...</td>\n",
       "      <td>1</td>\n",
       "      <td>2011-06-07T02:01:40</td>\n",
       "      <td>1006</td>\n",
       "      <td>1006.5691</td>\n",
       "      <td>en</td>\n",
       "      <td>https://arxiv.org/abs/1006.5691</td>\n",
       "      <td>True</td>\n",
       "      <td>False</td>\n",
       "    </tr>\n",
       "    <tr>\n",
       "      <th>2</th>\n",
       "      <td>{Introduction} Nowadays the amount of informat...</td>\n",
       "      <td>2</td>\n",
       "      <td>2010-12-27T02:00:34</td>\n",
       "      <td>1006</td>\n",
       "      <td>1006.5278</td>\n",
       "      <td>en</td>\n",
       "      <td>https://arxiv.org/abs/1006.5278</td>\n",
       "      <td>True</td>\n",
       "      <td>False</td>\n",
       "    </tr>\n",
       "    <tr>\n",
       "      <th>3</th>\n",
       "      <td>{Introduction} In networks where edges appear ...</td>\n",
       "      <td>3</td>\n",
       "      <td>2010-06-29T02:02:49</td>\n",
       "      <td>1006</td>\n",
       "      <td>1006.5367</td>\n",
       "      <td>en</td>\n",
       "      <td>https://arxiv.org/abs/1006.5367</td>\n",
       "      <td>False</td>\n",
       "      <td>True</td>\n",
       "    </tr>\n",
       "    <tr>\n",
       "      <th>4</th>\n",
       "      <td>{Introduction} Good estimates of the correlati...</td>\n",
       "      <td>4</td>\n",
       "      <td>2010-07-01T02:01:28</td>\n",
       "      <td>1006</td>\n",
       "      <td>1006.5847</td>\n",
       "      <td>en</td>\n",
       "      <td>https://arxiv.org/abs/1006.5847</td>\n",
       "      <td>False</td>\n",
       "      <td>True</td>\n",
       "    </tr>\n",
       "    <tr>\n",
       "      <th>...</th>\n",
       "      <td>...</td>\n",
       "      <td>...</td>\n",
       "      <td>...</td>\n",
       "      <td>...</td>\n",
       "      <td>...</td>\n",
       "      <td>...</td>\n",
       "      <td>...</td>\n",
       "      <td>...</td>\n",
       "      <td>...</td>\n",
       "    </tr>\n",
       "    <tr>\n",
       "      <th>48855</th>\n",
       "      <td>{Introduction}  Social networks are an abstrac...</td>\n",
       "      <td>48853</td>\n",
       "      <td>2020-11-04T02:18:07</td>\n",
       "      <td>2011</td>\n",
       "      <td>2011.01627</td>\n",
       "      <td>en</td>\n",
       "      <td>https://arxiv.org/abs/2011.01627</td>\n",
       "      <td>False</td>\n",
       "      <td>True</td>\n",
       "    </tr>\n",
       "    <tr>\n",
       "      <th>48856</th>\n",
       "      <td>{Introduction} {sect:intro}  Directional wirel...</td>\n",
       "      <td>48854</td>\n",
       "      <td>2020-12-15T02:21:33</td>\n",
       "      <td>2011</td>\n",
       "      <td>2011.01683</td>\n",
       "      <td>en</td>\n",
       "      <td>https://arxiv.org/abs/2011.01683</td>\n",
       "      <td>False</td>\n",
       "      <td>True</td>\n",
       "    </tr>\n",
       "    <tr>\n",
       "      <th>48857</th>\n",
       "      <td>{Conclusions} In this work we introduced 3D-La...</td>\n",
       "      <td>48855</td>\n",
       "      <td>2020-11-05T02:18:14</td>\n",
       "      <td>2011</td>\n",
       "      <td>2011.01535</td>\n",
       "      <td>en</td>\n",
       "      <td>https://arxiv.org/abs/2011.01535</td>\n",
       "      <td>False</td>\n",
       "      <td>True</td>\n",
       "    </tr>\n",
       "    <tr>\n",
       "      <th>48858</th>\n",
       "      <td>*{Acknowledgements} We thank  Hou Pong Chan, J...</td>\n",
       "      <td>48856</td>\n",
       "      <td>2020-11-04T02:14:39</td>\n",
       "      <td>2011</td>\n",
       "      <td>2011.01565</td>\n",
       "      <td>en</td>\n",
       "      <td>https://arxiv.org/abs/2011.01565</td>\n",
       "      <td>False</td>\n",
       "      <td>True</td>\n",
       "    </tr>\n",
       "    <tr>\n",
       "      <th>48859</th>\n",
       "      <td>{Introduction}  Since the seminal paper by Bar...</td>\n",
       "      <td>48857</td>\n",
       "      <td>2021-07-28T02:20:30</td>\n",
       "      <td>2011</td>\n",
       "      <td>2011.01562</td>\n",
       "      <td>en</td>\n",
       "      <td>https://arxiv.org/abs/2011.01562</td>\n",
       "      <td>True</td>\n",
       "      <td>False</td>\n",
       "    </tr>\n",
       "  </tbody>\n",
       "</table>\n",
       "<p>48860 rows × 9 columns</p>\n",
       "</div>"
      ],
      "text/plain": [
       "                                                    text  text_id  \\\n",
       "0      {Introduction}  The moduli space of flat conne...        0   \n",
       "1      {Introduction.}{secIntro}   In this paper we p...        1   \n",
       "2      {Introduction} Nowadays the amount of informat...        2   \n",
       "3      {Introduction} In networks where edges appear ...        3   \n",
       "4      {Introduction} Good estimates of the correlati...        4   \n",
       "...                                                  ...      ...   \n",
       "48855  {Introduction}  Social networks are an abstrac...    48853   \n",
       "48856  {Introduction} {sect:intro}  Directional wirel...    48854   \n",
       "48857  {Conclusions} In this work we introduced 3D-La...    48855   \n",
       "48858  *{Acknowledgements} We thank  Hou Pong Chan, J...    48856   \n",
       "48859  {Introduction}  Since the seminal paper by Bar...    48857   \n",
       "\n",
       "                 timestamp  yymm    arxiv_id language  \\\n",
       "0      2010-06-29T02:02:38  1006   1006.5340       en   \n",
       "1      2011-06-07T02:01:40  1006   1006.5691       en   \n",
       "2      2010-12-27T02:00:34  1006   1006.5278       en   \n",
       "3      2010-06-29T02:02:49  1006   1006.5367       en   \n",
       "4      2010-07-01T02:01:28  1006   1006.5847       en   \n",
       "...                    ...   ...         ...      ...   \n",
       "48855  2020-11-04T02:18:07  2011  2011.01627       en   \n",
       "48856  2020-12-15T02:21:33  2011  2011.01683       en   \n",
       "48857  2020-11-05T02:18:14  2011  2011.01535       en   \n",
       "48858  2020-11-04T02:14:39  2011  2011.01565       en   \n",
       "48859  2021-07-28T02:20:30  2011  2011.01562       en   \n",
       "\n",
       "                                    url  contains_auroc  contains_auprc  \n",
       "0       https://arxiv.org/abs/1006.5340           False            True  \n",
       "1       https://arxiv.org/abs/1006.5691            True           False  \n",
       "2       https://arxiv.org/abs/1006.5278            True           False  \n",
       "3       https://arxiv.org/abs/1006.5367           False            True  \n",
       "4       https://arxiv.org/abs/1006.5847           False            True  \n",
       "...                                 ...             ...             ...  \n",
       "48855  https://arxiv.org/abs/2011.01627           False            True  \n",
       "48856  https://arxiv.org/abs/2011.01683           False            True  \n",
       "48857  https://arxiv.org/abs/2011.01535           False            True  \n",
       "48858  https://arxiv.org/abs/2011.01565           False            True  \n",
       "48859  https://arxiv.org/abs/2011.01562            True           False  \n",
       "\n",
       "[48860 rows x 9 columns]"
      ]
     },
     "execution_count": 13,
     "metadata": {},
     "output_type": "execute_result"
    }
   ],
   "source": [
    "df_output"
   ]
  },
  {
   "cell_type": "markdown",
   "metadata": {},
   "source": [
    "## Visualizing number of citations over time"
   ]
  },
  {
   "cell_type": "code",
   "execution_count": 16,
   "metadata": {},
   "outputs": [
    {
     "data": {
      "text/plain": [
       "'figures/papers_over_time.png'"
      ]
     },
     "execution_count": 16,
     "metadata": {},
     "output_type": "execute_result"
    },
    {
     "data": {
      "image/png": "[encoded data removed]",
      "text/plain": [
       "<Figure size 1000x600 with 1 Axes>"
      ]
     },
     "metadata": {},
     "output_type": "display_data"
    }
   ],
   "source": [
    "import pandas as pd\n",
    "import matplotlib.pyplot as plt\n",
    "# Convert timestamp to datetime\n",
    "df_output['timestamp'] = pd.to_datetime(df_output['timestamp'])\n",
    "\n",
    "# Resample data by year\n",
    "df_yearly = df_output.resample('Y', on='timestamp').agg({'contains_auroc': 'sum', 'contains_auprc': 'sum'})\n",
    "\n",
    "# Calculate papers that contain both\n",
    "df_yearly['contains_both'] = df_output[(df_output['contains_auroc'] == True) & (df_output['contains_auprc'] == True)].resample('Y', on='timestamp').size()\n",
    "\n",
    "# File path for the figure\n",
    "figures_dir = \"figures\"\n",
    "figure_path = os.path.join(figures_dir, 'papers_over_time.png')\n",
    "\n",
    "# Save the figure\n",
    "plt.figure(figsize=(10, 6))\n",
    "plt.plot(df_yearly.index, df_yearly['contains_auroc'], label='Contains AUROC', marker='o')\n",
    "plt.plot(df_yearly.index, df_yearly['contains_auprc'], label='Contains AUPRC', marker='o')\n",
    "plt.plot(df_yearly.index, df_yearly['contains_both'], label='Contains Both', marker='o')\n",
    "plt.xlabel('Year')\n",
    "plt.ylabel('Number of Papers')\n",
    "plt.title('Number of Papers Over Time')\n",
    "plt.legend()\n",
    "plt.grid(True)\n",
    "plt.savefig(figure_path)\n",
    "\n",
    "figure_path"
   ]
  },
  {
   "cell_type": "code",
   "execution_count": 1,
   "metadata": {},
   "outputs": [],
   "source": [
    "import pandas as pd\n",
    "from tqdm import tqdm\n",
    "import re\n",
    "\n",
    "# Load data\n",
    "df_output = pd.read_csv('data/arxiv_filter_auc.csv')\n",
    "\n",
    "# Filter rows\n",
    "df_filtered = df_output[(df_output['contains_auroc'] == True) & (df_output['contains_auprc'] == True)]\n"
   ]
  },
  {
   "cell_type": "markdown",
   "metadata": {},
   "source": [
    "## Searching for specific claims that AUPRC is suprior to AUROC with GPT 3.5/4"
   ]
  },
  {
   "cell_type": "code",
   "execution_count": 3,
   "metadata": {},
   "outputs": [],
   "source": [
    "window_size = 300  # Number of words\n",
    "\n",
    "def create_keyword_pattern(keywords):\n",
    "    \"\"\"\n",
    "    Create a regex pattern for keyword matching.\n",
    "    \"\"\"\n",
    "    pattern = r'(?:(?<=\\W)|(?<=^))(' + '|'.join(map(re.escape, keywords)) + r')(?=\\W|$)'\n",
    "    return re.compile(pattern, re.IGNORECASE)\n",
    "\n",
    "def get_context_windows(text, keywords, window_size):\n",
    "    \"\"\"\n",
    "    Extract context windows around keywords in the text, ensuring that overlapping\n",
    "    windows are merged into one.\n",
    "    \"\"\"\n",
    "    context_windows = []\n",
    "    keyword_pattern = create_keyword_pattern(keywords)\n",
    "\n",
    "    matches = list(keyword_pattern.finditer(text))\n",
    "    merged_matches = []\n",
    "\n",
    "    i = 0\n",
    "    while i < len(matches):\n",
    "        current_match = matches[i]\n",
    "        start_pos = current_match.start()\n",
    "        end_pos = current_match.end()\n",
    "\n",
    "        # Check if the next matches are within the window size\n",
    "        while i + 1 < len(matches) and matches[i + 1].start() - end_pos <= window_size * 2:\n",
    "            i += 1\n",
    "            end_pos = matches[i].end()\n",
    "\n",
    "        merged_matches.append((start_pos, end_pos))\n",
    "        i += 1\n",
    "\n",
    "    for start_pos, end_pos in merged_matches:\n",
    "        words = text.split()\n",
    "        start_word_pos = len(text[:start_pos].split()) - 1\n",
    "        end_word_pos = len(text[:end_pos].split())\n",
    "        context_words = words[max(0, start_word_pos - window_size):min(len(words), end_word_pos + window_size)]\n",
    "        context_str = ' '.join(context_words)\n",
    "        context_windows.append(context_str)\n",
    "\n",
    "    return context_windows"
   ]
  },
  {
   "cell_type": "code",
   "execution_count": null,
   "metadata": {},
   "outputs": [],
   "source": []
  },
  {
   "cell_type": "markdown",
   "metadata": {},
   "source": [
    "### Importing function to extract context window"
   ]
  },
  {
   "cell_type": "code",
   "execution_count": null,
   "metadata": {},
   "outputs": [],
   "source": [
    "# Importing necessary functions and keyword lists\n",
    "import sys\n",
    "sys.path.append('src')  # Ensure the 'src' folder is in the Python path\n",
    "from claim_search_openai import get_context_windows"
   ]
  },
  {
   "cell_type": "markdown",
   "metadata": {},
   "source": [
    "## Extracting context windows in my data"
   ]
  },
  {
   "cell_type": "code",
   "execution_count": 12,
   "metadata": {},
   "outputs": [],
   "source": [
    "# Use the updated get_context_windows function\n",
    "new_data = []\n",
    "for idx, row in df_filtered.iterrows():\n",
    "    context_windows = get_context_windows(row['text'], auroc_search_terms, window_size)\n",
    "    for context_window in context_windows:\n",
    "        new_row = row.to_dict()\n",
    "        new_row['context_window'] = context_window\n",
    "        new_data.append(new_row)\n",
    "\n",
    "# Create a new DataFrame with the context windows\n",
    "new_df = pd.DataFrame(new_data)"
   ]
  },
  {
   "cell_type": "markdown",
   "metadata": {},
   "source": [
    "### Defining prompt and importing function"
   ]
  },
  {
   "cell_type": "code",
   "execution_count": 26,
   "metadata": {},
   "outputs": [],
   "source": [
    "# Importing necessary functions and keyword lists\n",
    "import sys\n",
    "sys.path.append('src')  # Ensure the 'src' folder is in the Python path\n",
    "from claim_search_openai import process_with_gpt"
   ]
  },
  {
   "cell_type": "code",
   "execution_count": 14,
   "metadata": {},
   "outputs": [],
   "source": [
    "# Define the system prompt\n",
    "SYSTEM_PROMPT = (\n",
    "    \"You are an expert in machine learning and scientific literature review. \"\n",
    "    \"For each chunk of a published paper (which may have typos, misspellings, and odd characters as a result of conversion from PDF), \"\n",
    "    \"return a string that states whether or not the paper makes any claim that the area under the receiver operating characteristic (AUROC) \"\n",
    "    \"is superior as a general performance metric compared to the area under the precision recall curve (AUPRC) in a machine learning setting. \"\n",
    "    \"A paper claiming that AUROC should be preferred over AUPRC, especially in contexts such as imbalanced datasets, is an example of this metric commentary. \"\n",
    "    \"Respond with format 'DESCRIPTION OF CLAIM GOES HERE' \"\n",
    "    \"If the paper makes no claims favoring AUROC over AUPRC, please respond with 'NONE'.\"\n",
    ")"
   ]
  },
  {
   "cell_type": "code",
   "execution_count": null,
   "metadata": {},
   "outputs": [],
   "source": [
    "openai_api_key = \"INSERT KEY HERE\"\n",
    "\n",
    "# Process each context window with GPT\n",
    "for idx, row in tqdm(new_df.iterrows(), total=new_df.shape[0]):\n",
    "    context_window = row['context_window']\n",
    "    gpt_response = process_with_gpt(context_window, \"gpt-3.5-turbo-1106\", SYSTEM_PROMPT, openai_api_key)\n",
    "    new_df.at[idx, 'gpt_response'] = gpt_response\n",
    "\n",
    "# Optionally, you can save the DataFrame with GPT responses\n",
    "new_df.to_csv('data/processed_gpt_responses.csv', index=False)"
   ]
  },
  {
   "cell_type": "code",
   "execution_count": 19,
   "metadata": {},
   "outputs": [
    {
     "name": "stdout",
     "output_type": "stream",
     "text": [
      "NONE\n"
     ]
    }
   ],
   "source": [
    "#new_df.to_csv('data/processed_gpt_responses.csv', index=False)\n",
    "print(new_df['gpt_response'][5])"
   ]
  },
  {
   "cell_type": "code",
   "execution_count": 20,
   "metadata": {},
   "outputs": [],
   "source": [
    "gpt_filter_3_5 = new_df[new_df['gpt_response'] != 'NONE']\n"
   ]
  },
  {
   "cell_type": "code",
   "execution_count": 21,
   "metadata": {},
   "outputs": [
    {
     "name": "stdout",
     "output_type": "stream",
     "text": [
      "                                                    text  text_id  \\\n",
      "0      {Introduction}  Graph neural networks (GNNs) h...       24   \n",
      "3      {Introduction}  Graph neural networks (GNNs) h...       24   \n",
      "4      {Introduction}  Graph neural networks (GNNs) h...       24   \n",
      "6      *{Background} Embedded feature selection in hi...       27   \n",
      "8      {Introduction}  Relatedness {hidalgo2018princi...       29   \n",
      "...                                                  ...      ...   \n",
      "18246  {Introduction} {sec:Intro} Even though the ori...    48836   \n",
      "18247  {Introduction} {sec:Intro} Even though the ori...    48836   \n",
      "18248  *{Introduction}  The collective behaviour of a...    48838   \n",
      "18250  *{Introduction}  The collective behaviour of a...    48838   \n",
      "18251  *{Introduction}  The collective behaviour of a...    48838   \n",
      "\n",
      "                 timestamp  yymm    arxiv_id language  \\\n",
      "0      2022-06-08T02:01:12  2202  2202.00529       en   \n",
      "3      2022-06-08T02:01:12  2202  2202.00529       en   \n",
      "4      2022-06-08T02:01:12  2202  2202.00529       en   \n",
      "6      2022-09-13T02:32:36  2202  2202.00598       en   \n",
      "8      2022-06-22T02:44:46  2202  2202.00458       en   \n",
      "...                    ...   ...         ...      ...   \n",
      "18246  2021-01-08T02:07:30  2101  2101.01904       en   \n",
      "18247  2021-01-08T02:07:30  2101  2101.01904       en   \n",
      "18248  2021-08-02T02:20:11  2101  2101.01965       en   \n",
      "18250  2021-08-02T02:20:11  2101  2101.01965       en   \n",
      "18251  2021-08-02T02:20:11  2101  2101.01965       en   \n",
      "\n",
      "                                    url  contains_auroc  contains_auprc  \\\n",
      "0      https://arxiv.org/abs/2202.00529            True            True   \n",
      "3      https://arxiv.org/abs/2202.00529            True            True   \n",
      "4      https://arxiv.org/abs/2202.00529            True            True   \n",
      "6      https://arxiv.org/abs/2202.00598            True            True   \n",
      "8      https://arxiv.org/abs/2202.00458            True            True   \n",
      "...                                 ...             ...             ...   \n",
      "18246  https://arxiv.org/abs/2101.01904            True            True   \n",
      "18247  https://arxiv.org/abs/2101.01904            True            True   \n",
      "18248  https://arxiv.org/abs/2101.01965            True            True   \n",
      "18250  https://arxiv.org/abs/2101.01965            True            True   \n",
      "18251  https://arxiv.org/abs/2101.01965            True            True   \n",
      "\n",
      "                                          context_window  \\\n",
      "0      Powerful Graph Networks (PPGN)~{maron2019prova...   \n",
      "3      these datasets share most of their motifs. In ...   \n",
      "4      a hyper-parameter to control the size of the s...   \n",
      "6      principle of returning the current performance...   \n",
      "8      is the relatedness between firms and products ...   \n",
      "...                                                  ...   \n",
      "18246  relevant predictions returned out of the total...   \n",
      "18247  value for maxdepth was found to be 6 when usin...   \n",
      "18248  link, while a true negative is where we correc...   \n",
      "18250  pairs. The Triplet Transition (TT) approach de...   \n",
      "18251  Email network{s}. Results for the Triad Transi...   \n",
      "\n",
      "                         gpt_response  \n",
      "0      DESCRIPTION OF CLAIM GOES HERE  \n",
      "3      DESCRIPTION OF CLAIM GOES HERE  \n",
      "4      DESCRIPTION OF CLAIM GOES HERE  \n",
      "6      DESCRIPTION OF CLAIM GOES HERE  \n",
      "8      DESCRIPTION OF CLAIM GOES HERE  \n",
      "...                               ...  \n",
      "18246  DESCRIPTION OF CLAIM GOES HERE  \n",
      "18247  DESCRIPTION OF CLAIM GOES HERE  \n",
      "18248  DESCRIPTION OF CLAIM GOES HERE  \n",
      "18250  DESCRIPTION OF CLAIM GOES HERE  \n",
      "18251  DESCRIPTION OF CLAIM GOES HERE  \n",
      "\n",
      "[8244 rows x 11 columns]\n"
     ]
    }
   ],
   "source": [
    "print(gpt_filter_3_5)"
   ]
  },
  {
   "cell_type": "code",
   "execution_count": 22,
   "metadata": {},
   "outputs": [
    {
     "name": "stdout",
     "output_type": "stream",
     "text": [
      "Found 2728 documents that GPT 3.5 thinks are relevant.\n"
     ]
    }
   ],
   "source": [
    "# Assuming filtered_df is your DataFrame after filtering\n",
    "unique_document_count = gpt_filter_3_5['text_id'].nunique()\n",
    "\n",
    "# Print the count of unique documents\n",
    "print(f\"Found {unique_document_count} documents that GPT 3.5 thinks are relevant.\")"
   ]
  },
  {
   "cell_type": "markdown",
   "metadata": {},
   "source": [
    "## Doing it with gpt 4.0 Turbo"
   ]
  },
  {
   "cell_type": "markdown",
   "metadata": {},
   "source": [
    "### Defining prompt (made adjustments since the old prompt did not seem sufficient)"
   ]
  },
  {
   "cell_type": "code",
   "execution_count": 13,
   "metadata": {},
   "outputs": [],
   "source": [
    "SYSTEM_PROMPT = (\n",
    "    \"You are an expert in machine learning and scientific literature review. \"\n",
    "    \"For each chunk of a published paper (which may have typos, misspellings, and odd characters as a result of conversion from PDF), \"\n",
    "    \"examine whether the paper makes any claim that the area under the receiver operating characteristic (AUROC) \"\n",
    "    \"is superior as a general performance metric compared to the area under the precision recall curve (AUPRC) in a machine learning setting. \"\n",
    "    \"If the paper makes a specific claim favoring AUROC over AUPRC, especially in contexts such as imbalanced datasets, \"\n",
    "    \"respond with the format: Paper claim: 'INPUT PAPER CLAIM HERE'. \"\n",
    "    \"If the paper makes no such claims, respond with 'NONE'.\"\n",
    ")\n"
   ]
  },
  {
   "cell_type": "code",
   "execution_count": null,
   "metadata": {},
   "outputs": [],
   "source": [
    "# Process each context window with GPT\n",
    "for idx, row in tqdm(gpt_filter_3_5.iterrows(), total=gpt_filter_3_5.shape[0]):\n",
    "    context_window = row['context_window']\n",
    "    gpt_response = process_with_gpt(context_window, \"gpt-4-1106-preview\", SYSTEM_PROMPT, openai_api_key)\n",
    "    gpt_filter_3_5.at[idx, 'gpt_response_4_0'] = gpt_response\n",
    "\n",
    "# Optionally, you can save the DataFrame with GPT responses\n",
    "gpt_filter_3_5.to_csv('data/processed_gpt_responses_gpt4.csv', index=False)"
   ]
  },
  {
   "cell_type": "markdown",
   "metadata": {},
   "source": [
    "### Saving only rows where GPT found claims"
   ]
  },
  {
   "cell_type": "code",
   "execution_count": 32,
   "metadata": {},
   "outputs": [],
   "source": [
    "filtered_df_gpt_4_0_v1 = gpt_filter_3_5[gpt_filter_3_5['gpt_response_4_0'].notna() & (gpt_filter_3_5['gpt_response_4_0'] != 'NONE') & (gpt_filter_3_5['gpt_response_4_0'] != 'Error: Rate limit retries exceeded')]\n"
   ]
  },
  {
   "cell_type": "code",
   "execution_count": 33,
   "metadata": {},
   "outputs": [
    {
     "name": "stdout",
     "output_type": "stream",
     "text": [
      "                                                    text  text_id  \\\n",
      "8      {Introduction}  Relatedness {hidalgo2018princi...       29   \n",
      "15     {Introduction} Transcriptomics is a powerful t...       63   \n",
      "44     *{Appendix for Disease-Atlas} {Tests on Cystic...      121   \n",
      "45     *{Appendix for Disease-Atlas} {Tests on Cystic...      121   \n",
      "74     {Introduction} Surveillance cameras can sense ...      220   \n",
      "...                                                  ...      ...   \n",
      "10203  {Introduction}  Anomaly detection has been wid...    26574   \n",
      "10204  {Introduction}  Anomaly detection has been wid...    26574   \n",
      "10235  {Introduction}  Drug-drug interactions (DDIs) ...    26641   \n",
      "10361  {Introduction} {sec:introduction}  Electronic ...    27119   \n",
      "10362  {Introduction} {sec:introduction}  Electronic ...    27119   \n",
      "\n",
      "                 timestamp  yymm    arxiv_id language  \\\n",
      "8      2022-06-22T02:44:46  2202  2202.00458       en   \n",
      "15     2021-02-02T02:23:16  2102  2102.00538       en   \n",
      "44     2018-07-09T02:10:58  1803  1803.10254       en   \n",
      "45     2018-07-09T02:10:58  1803  1803.10254       en   \n",
      "74     2023-02-13T02:07:21  2302  2302.05087       en   \n",
      "...                    ...   ...         ...      ...   \n",
      "10203  2021-07-01T02:18:16  2106  2106.16020       en   \n",
      "10204  2021-07-01T02:18:16  2106  2106.16020       en   \n",
      "10235  2018-11-02T01:06:46  1811  1811.00208       en   \n",
      "10361  2020-11-30T02:11:54  2011  2011.12349       en   \n",
      "10362  2020-11-30T02:11:54  2011  2011.12349       en   \n",
      "\n",
      "                                    url  contains_auroc  contains_auprc  \\\n",
      "8      https://arxiv.org/abs/2202.00458            True            True   \n",
      "15     https://arxiv.org/abs/2102.00538            True            True   \n",
      "44     https://arxiv.org/abs/1803.10254            True            True   \n",
      "45     https://arxiv.org/abs/1803.10254            True            True   \n",
      "74     https://arxiv.org/abs/2302.05087            True            True   \n",
      "...                                 ...             ...             ...   \n",
      "10203  https://arxiv.org/abs/2106.16020            True            True   \n",
      "10204  https://arxiv.org/abs/2106.16020            True            True   \n",
      "10235  https://arxiv.org/abs/1811.00208            True            True   \n",
      "10361  https://arxiv.org/abs/2011.12349            True            True   \n",
      "10362  https://arxiv.org/abs/2011.12349            True            True   \n",
      "\n",
      "                                          context_window  \\\n",
      "8      is the relatedness between firms and products ...   \n",
      "15     the cell line samples were split into ten stra...   \n",
      "44     extbf{L} & extbf{JM} extbf{AUROC} & 1 & extbf{...   \n",
      "45     0.103 ( 0.0005) & 0.092 ( 0.0007) & 0.099 ( 0....   \n",
      "74     (a) metrics system and (b) confusion matrix.} ...   \n",
      "...                                                  ...   \n",
      "10203  dataset comparison through different metrics. ...   \n",
      "10204  ef{sec:impact_setup_f1_score}, we suggest the ...   \n",
      "10235  DDIs, and in total 63473 drug pairs associated...   \n",
      "10361  & F1 {5}{*}{ extbf{In-Hospital Mortality}} & G...   \n",
      "10362  61.59 0.003 & 54.46 0.012 & & Concat & 68.61 0...   \n",
      "\n",
      "                                            gpt_response  \\\n",
      "8                         DESCRIPTION OF CLAIM GOES HERE   \n",
      "15                        DESCRIPTION OF CLAIM GOES HERE   \n",
      "44                        DESCRIPTION OF CLAIM GOES HERE   \n",
      "45     The paper does not make any claim favoring AUR...   \n",
      "74                        DESCRIPTION OF CLAIM GOES HERE   \n",
      "...                                                  ...   \n",
      "10203                     DESCRIPTION OF CLAIM GOES HERE   \n",
      "10204                     DESCRIPTION OF CLAIM GOES HERE   \n",
      "10235                     DESCRIPTION OF CLAIM GOES HERE   \n",
      "10361                     DESCRIPTION OF CLAIM GOES HERE   \n",
      "10362                     DESCRIPTION OF CLAIM GOES HERE   \n",
      "\n",
      "                                        gpt_response_4_0  \n",
      "8      Paper claim: 'Our problem is characterized by ...  \n",
      "15     Paper claim: 'We choose the area under the rec...  \n",
      "44     Paper claim: 'ROC metrics can lead to deceptiv...  \n",
      "45     Paper claim: 'ROC metrics can lead to deceptiv...  \n",
      "74     Paper claim: \"Due to the highly unbalanced nat...  \n",
      "...                                                  ...  \n",
      "10203  Paper claim: 'Given the instability shown in S...  \n",
      "10204  Paper claim: 'We recommend using the AUC metri...  \n",
      "10235  Paper claim: 'It was shown in {davis2006relati...  \n",
      "10361  Paper claim: 'AUROC is a popular robust metric...  \n",
      "10362  Paper claim: 'AUROC is a popular robust metric...  \n",
      "\n",
      "[175 rows x 12 columns]\n"
     ]
    }
   ],
   "source": [
    "print(filtered_df_gpt_4_0_v1)"
   ]
  },
  {
   "cell_type": "code",
   "execution_count": 34,
   "metadata": {},
   "outputs": [],
   "source": [
    "filtered_df_gpt_4_0_v1.to_csv('data/filtered_df_gpt_4_0_v1.csv', index=False)"
   ]
  },
  {
   "cell_type": "markdown",
   "metadata": {},
   "source": [
    "## Since I reached Rate limit I am trying with the rest"
   ]
  },
  {
   "cell_type": "markdown",
   "metadata": {},
   "source": [
    "### So we start by filtering the reponses that are NaN or where the Rate limit is exceed"
   ]
  },
  {
   "cell_type": "code",
   "execution_count": 36,
   "metadata": {},
   "outputs": [],
   "source": [
    "filtered_df_gpt_4_0_v2 = gpt_filter_3_5[\n",
    "    gpt_filter_3_5['gpt_response_4_0'].isna() | \n",
    "    (gpt_filter_3_5['gpt_response_4_0'] == \"Error: Rate limit retries exceeded\")\n",
    "]\n"
   ]
  },
  {
   "cell_type": "code",
   "execution_count": null,
   "metadata": {},
   "outputs": [],
   "source": [
    "# Process each context window with GPT\n",
    "for idx, row in tqdm(filtered_df_gpt_4_0_v2.iterrows(), total=filtered_df_gpt_4_0_v2.shape[0]):\n",
    "    context_window = row['context_window']\n",
    "    gpt_response = process_with_gpt(context_window, \"gpt-4-1106-preview\", SYSTEM_PROMPT, openai_api_key)\n",
    "    filtered_df_gpt_4_0_v2.at[idx, 'gpt_response_4_0'] = gpt_response"
   ]
  },
  {
   "cell_type": "markdown",
   "metadata": {},
   "source": [
    "## Since I reached Rate limit, I am trying with the rest"
   ]
  },
  {
   "cell_type": "markdown",
   "metadata": {},
   "source": [
    "### First I will save the ones I have (that are deemed relevant)"
   ]
  },
  {
   "cell_type": "code",
   "execution_count": 40,
   "metadata": {},
   "outputs": [],
   "source": [
    "filtered_df_gpt_4_0_v3 = filtered_df_gpt_4_0_v2[filtered_df_gpt_4_0_v2['gpt_response_4_0'].notna() & (filtered_df_gpt_4_0_v2['gpt_response_4_0'] != 'NONE') & (filtered_df_gpt_4_0_v2['gpt_response_4_0'] != 'Error: Rate limit retries exceeded')]"
   ]
  },
  {
   "cell_type": "code",
   "execution_count": 41,
   "metadata": {},
   "outputs": [],
   "source": [
    "filtered_df_gpt_4_0_v3.to_csv('data/processed_gpt_responses_gpt4_v3.csv', index=False)"
   ]
  },
  {
   "cell_type": "markdown",
   "metadata": {},
   "source": [
    "### Now searching for the rest"
   ]
  },
  {
   "cell_type": "code",
   "execution_count": 47,
   "metadata": {},
   "outputs": [],
   "source": [
    "filtered_df_gpt_4_0_v4 = filtered_df_gpt_4_0_v2[\n",
    "    filtered_df_gpt_4_0_v2['gpt_response_4_0'].isna() | \n",
    "    (filtered_df_gpt_4_0_v2['gpt_response_4_0'] == \"Error: Rate limit retries exceeded\")\n",
    "]\n"
   ]
  },
  {
   "cell_type": "code",
   "execution_count": null,
   "metadata": {},
   "outputs": [],
   "source": [
    "# Process each context window with GPT\n",
    "for idx, row in tqdm(filtered_df_gpt_4_0_v4.iterrows(), total=filtered_df_gpt_4_0_v4.shape[0]):\n",
    "    context_window = row['context_window']\n",
    "    gpt_response = process_with_gpt(context_window, \"gpt-4-1106-preview\", SYSTEM_PROMPT, openai_api_key)\n",
    "    filtered_df_gpt_4_0_v4.at[idx, 'gpt_response_4_0'] = gpt_response\n"
   ]
  },
  {
   "cell_type": "markdown",
   "metadata": {},
   "source": [
    "## Since I reached Rate limit, I am trying with the rest"
   ]
  },
  {
   "cell_type": "markdown",
   "metadata": {},
   "source": [
    "### First I will save the ones I have"
   ]
  },
  {
   "cell_type": "code",
   "execution_count": 49,
   "metadata": {},
   "outputs": [],
   "source": [
    "filtered_df_gpt_4_0_v5 = filtered_df_gpt_4_0_v4[filtered_df_gpt_4_0_v4['gpt_response_4_0'].notna() & (filtered_df_gpt_4_0_v4['gpt_response_4_0'] != 'NONE') & (filtered_df_gpt_4_0_v4['gpt_response_4_0'] != 'Error: Rate limit retries exceeded')]\n"
   ]
  },
  {
   "cell_type": "code",
   "execution_count": 51,
   "metadata": {},
   "outputs": [],
   "source": [
    "filtered_df_gpt_4_0_v5.to_csv('data/processed_gpt_responses_gpt4_v5.csv', index=False)"
   ]
  },
  {
   "cell_type": "markdown",
   "metadata": {},
   "source": [
    "### I will save the last dataframe, that needs to be searched here"
   ]
  },
  {
   "cell_type": "code",
   "execution_count": 52,
   "metadata": {},
   "outputs": [],
   "source": [
    "filtered_df_gpt_4_0_v6 = filtered_df_gpt_4_0_v4[\n",
    "    filtered_df_gpt_4_0_v4['gpt_response_4_0'].isna() | \n",
    "    (filtered_df_gpt_4_0_v4['gpt_response_4_0'] == \"Error: Rate limit retries exceeded\")\n",
    "]\n"
   ]
  },
  {
   "cell_type": "code",
   "execution_count": 58,
   "metadata": {},
   "outputs": [],
   "source": [
    "filtered_df_gpt_4_0_v6.to_csv('data/processed_gpt3_responses_rest.csv', index=False)"
   ]
  },
  {
   "cell_type": "markdown",
   "metadata": {},
   "source": [
    "### Loading the df again since I restarted the kernel"
   ]
  },
  {
   "cell_type": "code",
   "execution_count": 5,
   "metadata": {},
   "outputs": [],
   "source": [
    "import pandas as pd\n",
    "filtered_df_gpt_4_0_v6 = pd.read_csv('data/processed_gpt3_responses_rest.csv')"
   ]
  },
  {
   "cell_type": "code",
   "execution_count": null,
   "metadata": {},
   "outputs": [],
   "source": [
    "# Introduce a delay between API calls\n",
    "api_call_delay = 1.0  # Adjust this delay as needed\n",
    "\n",
    "from tqdm import tqdm \n",
    "\n",
    "for idx, row in tqdm(filtered_df_gpt_4_0_v6.iterrows(), total=filtered_df_gpt_4_0_v6.shape[0]):\n",
    "    context_window = row['context_window']\n",
    "    gpt_response = process_with_gpt(context_window, \"gpt-4-1106-preview\", SYSTEM_PROMPT, openai_api_key, api_call_delay)\n",
    "    filtered_df_gpt_4_0_v6.at[idx, 'gpt_response_4_0'] = gpt_response\n",
    "    time.sleep(api_call_delay)  # Throttle the API calls\n"
   ]
  },
  {
   "cell_type": "markdown",
   "metadata": {},
   "source": [
    "## Hit a throttle, continuing from line 794"
   ]
  },
  {
   "cell_type": "code",
   "execution_count": null,
   "metadata": {},
   "outputs": [],
   "source": [
    "# Introduce a delay between API calls\n",
    "api_call_delay = 4  # Adjust this delay as needed\n",
    "\n",
    "from tqdm import tqdm\n",
    "import time\n",
    "\n",
    "resume_idx = 794  # Set this to the index where you want to resume processing\n",
    "\n",
    "for idx, row in tqdm(filtered_df_gpt_4_0_v6.iterrows(), total=filtered_df_gpt_4_0_v6.shape[0]):\n",
    "    if idx < resume_idx:\n",
    "        continue  # Skip to the next iteration until we reach the resume index\n",
    "\n",
    "    context_window = row['context_window']\n",
    "    gpt_response = process_with_gpt(context_window, \"gpt-4-1106-preview\", SYSTEM_PROMPT, openai_api_key, api_call_delay)\n",
    "    filtered_df_gpt_4_0_v6.at[idx, 'gpt_response_4_0'] = gpt_response\n",
    "    time.sleep(api_call_delay)  # Throttle the API calls\n"
   ]
  },
  {
   "cell_type": "markdown",
   "metadata": {},
   "source": [
    "## Hit a throttle, continuing from line 1061"
   ]
  },
  {
   "cell_type": "code",
   "execution_count": null,
   "metadata": {},
   "outputs": [],
   "source": [
    "# Introduce a delay between API calls\n",
    "api_call_delay = 5  # Adjust this delay as needed\n",
    "\n",
    "from tqdm import tqdm\n",
    "import time\n",
    "\n",
    "resume_idx = 1061  # Set this to the index where you want to resume processing\n",
    "\n",
    "for idx, row in tqdm(filtered_df_gpt_4_0_v6.iterrows(), total=filtered_df_gpt_4_0_v6.shape[0]):\n",
    "    if idx < resume_idx:\n",
    "        continue  # Skip to the next iteration until we reach the resume index\n",
    "\n",
    "    context_window = row['context_window']\n",
    "    gpt_response = process_with_gpt(context_window, \"gpt-4-1106-preview\", SYSTEM_PROMPT, openai_api_key, api_call_delay)\n",
    "    filtered_df_gpt_4_0_v6.at[idx, 'gpt_response_4_0'] = gpt_response\n",
    "    time.sleep(api_call_delay)  # Throttle the API calls\n"
   ]
  },
  {
   "cell_type": "markdown",
   "metadata": {},
   "source": [
    "### Stopped at 1391"
   ]
  },
  {
   "cell_type": "code",
   "execution_count": null,
   "metadata": {},
   "outputs": [],
   "source": [
    "# Introduce a delay between API calls\n",
    "api_call_delay = 5  # Adjust this delay as needed\n",
    "\n",
    "from tqdm import tqdm\n",
    "import time\n",
    "\n",
    "resume_idx = 1391  # Set this to the index where you want to resume processing\n",
    "\n",
    "for idx, row in tqdm(filtered_df_gpt_4_0_v6.iterrows(), total=filtered_df_gpt_4_0_v6.shape[0]):\n",
    "    if idx < resume_idx:\n",
    "        continue  # Skip to the next iteration until we reach the resume index\n",
    "\n",
    "    context_window = row['context_window']\n",
    "    gpt_response = process_with_gpt(context_window, \"gpt-4-1106-preview\", SYSTEM_PROMPT, openai_api_key, api_call_delay)\n",
    "    filtered_df_gpt_4_0_v6.at[idx, 'gpt_response_4_0'] = gpt_response\n",
    "    time.sleep(api_call_delay)  # Throttle the API calls\n"
   ]
  },
  {
   "cell_type": "markdown",
   "metadata": {},
   "source": [
    "## Got 73% but we hit limit of API key, stopping for now"
   ]
  },
  {
   "cell_type": "code",
   "execution_count": 21,
   "metadata": {},
   "outputs": [],
   "source": [
    "filtered_df_gpt_4_0_v7 = filtered_df_gpt_4_0_v6[filtered_df_gpt_4_0_v6['gpt_response_4_0'].notna() & (filtered_df_gpt_4_0_v6['gpt_response_4_0'] != 'NONE') & (filtered_df_gpt_4_0_v6['gpt_response_4_0'] != 'Error: Rate limit retries exceeded')]\n",
    "\n",
    "filtered_df_gpt_4_0_v7.to_csv('data/processed_gpt_responses_gpt4_v7.csv', index=False)"
   ]
  },
  {
   "cell_type": "markdown",
   "metadata": {},
   "source": [
    "### Saving the last papers I have not gone through yet"
   ]
  },
  {
   "cell_type": "code",
   "execution_count": 25,
   "metadata": {},
   "outputs": [],
   "source": [
    "filtered_df_gpt_4_0_v8 = filtered_df_gpt_4_0_v6[\n",
    "    filtered_df_gpt_4_0_v6['gpt_response_4_0'].isna() | \n",
    "    (filtered_df_gpt_4_0_v6['gpt_response_4_0'] == \"Error: Rate limit retries exceeded\")\n",
    "]\n",
    "\n",
    "filtered_df_gpt_4_0_v8.to_csv('data/last_papers_not_gone_through_arxiv_search.csv', index=False)"
   ]
  }
 ],
 "metadata": {
  "kernelspec": {
   "display_name": "Python 3",
   "language": "python",
   "name": "python3"
  },
  "language_info": {
   "codemirror_mode": {
    "name": "ipython",
    "version": 3
   },
   "file_extension": ".py",
   "mimetype": "text/x-python",
   "name": "python",
   "nbconvert_exporter": "python",
   "pygments_lexer": "ipython3",
   "version": "3.11.5"
  },
  "orig_nbformat": 4
 },
 "nbformat": 4,
 "nbformat_minor": 2
}
